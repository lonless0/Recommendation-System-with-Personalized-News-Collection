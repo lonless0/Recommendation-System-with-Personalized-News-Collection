#%%

import numpy as np
import pandas as pd

import matplotlib.pyplot as plt
import seaborn as sns

import os,gc,re,warnings,sys

#%%

user_id = np.random.randint(1,200,size=(2000,1))

click_article_id = np.random.randint(1,1000,size=(2000,1))
click_timestamp = np.random.randint(100000,999999,size=(2000,1))
click_article_at_ts = click_article_id*333%100
data= np.concatenate([user_id,click_article_id,click_article_id%8,click_timestamp,click_article_at_ts],axis=-1)
#%%

trn_click = pd.DataFrame(data,columns=["user_id",'click_article_id','category_id','click_timestamp','click_article_at_ts'])
trn_click