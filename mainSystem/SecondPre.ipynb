{
 "cells": [
  {
   "cell_type": "code",
   "execution_count": 2,
   "metadata": {
    "collapsed": true
   },
   "outputs": [],
   "source": [
    "import numpy as np\n",
    "import pandas as pd\n",
    "\n",
    "import matplotlib.pyplot as plt\n",
    "import seaborn as sns\n",
    "\n",
    "import os,gc,re,warnings,sys"
   ]
  },
  {
   "cell_type": "code",
   "execution_count": 65,
   "outputs": [],
   "source": [
    "user_id = np.random.randint(1,200,size=(2000,1))\n",
    "\n",
    "click_article_id = np.random.randint(1,1000,size=(2000,1))\n",
    "click_timestamp = np.random.randint(100000,999999,size=(2000,1))\n",
    "click_article_at_ts = click_article_id*333%100\n",
    "data= np.concatenate([user_id,click_article_id,click_article_id%8,click_timestamp,click_article_at_ts],axis=-1)"
   ],
   "metadata": {
    "collapsed": false,
    "pycharm": {
     "name": "#%%\n"
    }
   }
  },
  {
   "cell_type": "code",
   "execution_count": 66,
   "outputs": [
    {
     "data": {
      "text/plain": "      user_id  click_article_id  category_id  click_timestamp  \\\n0         197               842            2           192289   \n1         110               232            0           587082   \n2           3               189            5           290347   \n3          56               792            0           279546   \n4         149               323            3           149229   \n...       ...               ...          ...              ...   \n1995       11               150            6           554954   \n1996      112                41            1           656676   \n1997       73                69            5           881140   \n1998       26               865            1           729887   \n1999       45               861            5           933370   \n\n      click_article_at_ts  \n0                      86  \n1                      56  \n2                      37  \n3                      36  \n4                      59  \n...                   ...  \n1995                   50  \n1996                   53  \n1997                   77  \n1998                   45  \n1999                   13  \n\n[2000 rows x 5 columns]",
      "text/html": "<div>\n<style scoped>\n    .dataframe tbody tr th:only-of-type {\n        vertical-align: middle;\n    }\n\n    .dataframe tbody tr th {\n        vertical-align: top;\n    }\n\n    .dataframe thead th {\n        text-align: right;\n    }\n</style>\n<table border=\"1\" class=\"dataframe\">\n  <thead>\n    <tr style=\"text-align: right;\">\n      <th></th>\n      <th>user_id</th>\n      <th>click_article_id</th>\n      <th>category_id</th>\n      <th>click_timestamp</th>\n      <th>click_article_at_ts</th>\n    </tr>\n  </thead>\n  <tbody>\n    <tr>\n      <th>0</th>\n      <td>197</td>\n      <td>842</td>\n      <td>2</td>\n      <td>192289</td>\n      <td>86</td>\n    </tr>\n    <tr>\n      <th>1</th>\n      <td>110</td>\n      <td>232</td>\n      <td>0</td>\n      <td>587082</td>\n      <td>56</td>\n    </tr>\n    <tr>\n      <th>2</th>\n      <td>3</td>\n      <td>189</td>\n      <td>5</td>\n      <td>290347</td>\n      <td>37</td>\n    </tr>\n    <tr>\n      <th>3</th>\n      <td>56</td>\n      <td>792</td>\n      <td>0</td>\n      <td>279546</td>\n      <td>36</td>\n    </tr>\n    <tr>\n      <th>4</th>\n      <td>149</td>\n      <td>323</td>\n      <td>3</td>\n      <td>149229</td>\n      <td>59</td>\n    </tr>\n    <tr>\n      <th>...</th>\n      <td>...</td>\n      <td>...</td>\n      <td>...</td>\n      <td>...</td>\n      <td>...</td>\n    </tr>\n    <tr>\n      <th>1995</th>\n      <td>11</td>\n      <td>150</td>\n      <td>6</td>\n      <td>554954</td>\n      <td>50</td>\n    </tr>\n    <tr>\n      <th>1996</th>\n      <td>112</td>\n      <td>41</td>\n      <td>1</td>\n      <td>656676</td>\n      <td>53</td>\n    </tr>\n    <tr>\n      <th>1997</th>\n      <td>73</td>\n      <td>69</td>\n      <td>5</td>\n      <td>881140</td>\n      <td>77</td>\n    </tr>\n    <tr>\n      <th>1998</th>\n      <td>26</td>\n      <td>865</td>\n      <td>1</td>\n      <td>729887</td>\n      <td>45</td>\n    </tr>\n    <tr>\n      <th>1999</th>\n      <td>45</td>\n      <td>861</td>\n      <td>5</td>\n      <td>933370</td>\n      <td>13</td>\n    </tr>\n  </tbody>\n</table>\n<p>2000 rows × 5 columns</p>\n</div>"
     },
     "execution_count": 66,
     "metadata": {},
     "output_type": "execute_result"
    }
   ],
   "source": [
    "trn_click = pd.DataFrame(data,columns=[\"user_id\",'click_article_id','category_id','click_timestamp','click_article_at_ts'])\n",
    "trn_click"
   ],
   "metadata": {
    "collapsed": false,
    "pycharm": {
     "name": "#%%\n"
    }
   }
  },
  {
   "cell_type": "code",
   "execution_count": 55,
   "outputs": [
    {
     "data": {
      "text/plain": "      user_id  click_article_id  category_id  click_timestamp\n0         128               896            0         0.294216\n1          57               139            3         0.334839\n2         133               115            3         0.267670\n3         149               113            1         0.647612\n4         133                63            7         0.299837\n...       ...               ...          ...              ...\n1995      133               371            3         0.672531\n1996       84               172            4         0.893976\n1997        3               351            7         0.119021\n1998       16               600            0         0.775634\n1999       64               514            2         0.526817\n\n[2000 rows x 4 columns]",
      "text/html": "<div>\n<style scoped>\n    .dataframe tbody tr th:only-of-type {\n        vertical-align: middle;\n    }\n\n    .dataframe tbody tr th {\n        vertical-align: top;\n    }\n\n    .dataframe thead th {\n        text-align: right;\n    }\n</style>\n<table border=\"1\" class=\"dataframe\">\n  <thead>\n    <tr style=\"text-align: right;\">\n      <th></th>\n      <th>user_id</th>\n      <th>click_article_id</th>\n      <th>category_id</th>\n      <th>click_timestamp</th>\n    </tr>\n  </thead>\n  <tbody>\n    <tr>\n      <th>0</th>\n      <td>128</td>\n      <td>896</td>\n      <td>0</td>\n      <td>0.294216</td>\n    </tr>\n    <tr>\n      <th>1</th>\n      <td>57</td>\n      <td>139</td>\n      <td>3</td>\n      <td>0.334839</td>\n    </tr>\n    <tr>\n      <th>2</th>\n      <td>133</td>\n      <td>115</td>\n      <td>3</td>\n      <td>0.267670</td>\n    </tr>\n    <tr>\n      <th>3</th>\n      <td>149</td>\n      <td>113</td>\n      <td>1</td>\n      <td>0.647612</td>\n    </tr>\n    <tr>\n      <th>4</th>\n      <td>133</td>\n      <td>63</td>\n      <td>7</td>\n      <td>0.299837</td>\n    </tr>\n    <tr>\n      <th>...</th>\n      <td>...</td>\n      <td>...</td>\n      <td>...</td>\n      <td>...</td>\n    </tr>\n    <tr>\n      <th>1995</th>\n      <td>133</td>\n      <td>371</td>\n      <td>3</td>\n      <td>0.672531</td>\n    </tr>\n    <tr>\n      <th>1996</th>\n      <td>84</td>\n      <td>172</td>\n      <td>4</td>\n      <td>0.893976</td>\n    </tr>\n    <tr>\n      <th>1997</th>\n      <td>3</td>\n      <td>351</td>\n      <td>7</td>\n      <td>0.119021</td>\n    </tr>\n    <tr>\n      <th>1998</th>\n      <td>16</td>\n      <td>600</td>\n      <td>0</td>\n      <td>0.775634</td>\n    </tr>\n    <tr>\n      <th>1999</th>\n      <td>64</td>\n      <td>514</td>\n      <td>2</td>\n      <td>0.526817</td>\n    </tr>\n  </tbody>\n</table>\n<p>2000 rows × 4 columns</p>\n</div>"
     },
     "execution_count": 55,
     "metadata": {},
     "output_type": "execute_result"
    }
   ],
   "source": [
    "max_min_scaler = lambda x : (x-np.min(x))/(np.max(x)-np.min(x))\n",
    "#对时间戳进行归一化\n",
    "trn_click['click_timestamp'] = trn_click[['click_timestamp']].apply(max_min_scaler)\n",
    "\n",
    "trn_click"
   ],
   "metadata": {
    "collapsed": false,
    "pycharm": {
     "name": "#%%\n"
    }
   }
  },
  {
   "cell_type": "code",
   "execution_count": 58,
   "outputs": [],
   "source": [
    "#获取用户历史点击文章类型的集合\n",
    "user_hist_item_tupes = trn_click.groupby('user_id')['category_id'].agg(set).reset_index()\n",
    "user_hist_item_tupes_dict = dict(zip(user_hist_item_tupes['user_id'], user_hist_item_tupes['category_id']))"
   ],
   "metadata": {
    "collapsed": false,
    "pycharm": {
     "name": "#%%\n"
    }
   }
  },
  {
   "cell_type": "code",
   "execution_count": 64,
   "outputs": [],
   "source": [
    "#获取user_id对应的用户点击文章的集合\n",
    "user_hist_item_ids = trn_click.groupby('user_id')['click_article_id'].agg(set).reset_index()\n",
    "user_hist_item_ids_dict = dict(zip(user_hist_item_ids['user_id'],user_hist_item_ids['click_article_id']))"
   ],
   "metadata": {
    "collapsed": false,
    "pycharm": {
     "name": "#%%\n"
    }
   }
  },
  {
   "cell_type": "code",
   "execution_count": null,
   "outputs": [],
   "source": [
    "#获取user_id对应的用户历史点击的文章的平均字数字典"
   ],
   "metadata": {
    "collapsed": false,
    "pycharm": {
     "name": "#%%\n"
    }
   }
  },
  {
   "cell_type": "code",
   "execution_count": 68,
   "outputs": [
    {
     "ename": "KeyError",
     "evalue": "'Column not found: creat_at_ts'",
     "output_type": "error",
     "traceback": [
      "\u001B[1;31m---------------------------------------------------------------------------\u001B[0m",
      "\u001B[1;31mKeyError\u001B[0m                                  Traceback (most recent call last)",
      "\u001B[1;32m~\\AppData\\Local\\Temp/ipykernel_4544/217191831.py\u001B[0m in \u001B[0;36m<module>\u001B[1;34m\u001B[0m\n\u001B[0;32m      1\u001B[0m \u001B[1;31m#获取user_id对应的用户最后一次点击的文章的创建时间\u001B[0m\u001B[1;33m\u001B[0m\u001B[1;33m\u001B[0m\u001B[1;33m\u001B[0m\u001B[0m\n\u001B[0;32m      2\u001B[0m \u001B[0mtrn_click\u001B[0m \u001B[1;33m=\u001B[0m \u001B[0mtrn_click\u001B[0m\u001B[1;33m.\u001B[0m\u001B[0msort_values\u001B[0m\u001B[1;33m(\u001B[0m\u001B[1;34m'click_timestamp'\u001B[0m\u001B[1;33m)\u001B[0m\u001B[1;33m\u001B[0m\u001B[1;33m\u001B[0m\u001B[0m\n\u001B[1;32m----> 3\u001B[1;33m \u001B[0muser_last_news_created_time\u001B[0m \u001B[1;33m=\u001B[0m \u001B[0mtrn_click\u001B[0m\u001B[1;33m.\u001B[0m\u001B[0mgroupby\u001B[0m\u001B[1;33m(\u001B[0m\u001B[1;34m'user_id'\u001B[0m\u001B[1;33m)\u001B[0m\u001B[1;33m[\u001B[0m\u001B[1;34m'creat_at_ts'\u001B[0m\u001B[1;33m]\u001B[0m\u001B[1;33m.\u001B[0m\u001B[0mapply\u001B[0m\u001B[1;33m(\u001B[0m\u001B[1;32mlambda\u001B[0m \u001B[0mx\u001B[0m\u001B[1;33m:\u001B[0m\u001B[0mx\u001B[0m\u001B[1;33m.\u001B[0m\u001B[0miloc\u001B[0m\u001B[1;33m[\u001B[0m\u001B[1;33m-\u001B[0m\u001B[1;36m1\u001B[0m\u001B[1;33m]\u001B[0m\u001B[1;33m)\u001B[0m\u001B[1;33m.\u001B[0m\u001B[0mreset_index\u001B[0m\u001B[1;33m(\u001B[0m\u001B[1;33m)\u001B[0m\u001B[1;33m\u001B[0m\u001B[1;33m\u001B[0m\u001B[0m\n\u001B[0m",
      "\u001B[1;32mc:\\users\\lonless\\appdata\\local\\programs\\python\\python39\\lib\\site-packages\\pandas\\core\\groupby\\generic.py\u001B[0m in \u001B[0;36m__getitem__\u001B[1;34m(self, key)\u001B[0m\n\u001B[0;32m   1536\u001B[0m                 \u001B[0mstacklevel\u001B[0m\u001B[1;33m=\u001B[0m\u001B[1;36m2\u001B[0m\u001B[1;33m,\u001B[0m\u001B[1;33m\u001B[0m\u001B[1;33m\u001B[0m\u001B[0m\n\u001B[0;32m   1537\u001B[0m             )\n\u001B[1;32m-> 1538\u001B[1;33m         \u001B[1;32mreturn\u001B[0m \u001B[0msuper\u001B[0m\u001B[1;33m(\u001B[0m\u001B[1;33m)\u001B[0m\u001B[1;33m.\u001B[0m\u001B[0m__getitem__\u001B[0m\u001B[1;33m(\u001B[0m\u001B[0mkey\u001B[0m\u001B[1;33m)\u001B[0m\u001B[1;33m\u001B[0m\u001B[1;33m\u001B[0m\u001B[0m\n\u001B[0m\u001B[0;32m   1539\u001B[0m \u001B[1;33m\u001B[0m\u001B[0m\n\u001B[0;32m   1540\u001B[0m     \u001B[1;32mdef\u001B[0m \u001B[0m_gotitem\u001B[0m\u001B[1;33m(\u001B[0m\u001B[0mself\u001B[0m\u001B[1;33m,\u001B[0m \u001B[0mkey\u001B[0m\u001B[1;33m,\u001B[0m \u001B[0mndim\u001B[0m\u001B[1;33m:\u001B[0m \u001B[0mint\u001B[0m\u001B[1;33m,\u001B[0m \u001B[0msubset\u001B[0m\u001B[1;33m=\u001B[0m\u001B[1;32mNone\u001B[0m\u001B[1;33m)\u001B[0m\u001B[1;33m:\u001B[0m\u001B[1;33m\u001B[0m\u001B[1;33m\u001B[0m\u001B[0m\n",
      "\u001B[1;32mc:\\users\\lonless\\appdata\\local\\programs\\python\\python39\\lib\\site-packages\\pandas\\core\\base.py\u001B[0m in \u001B[0;36m__getitem__\u001B[1;34m(self, key)\u001B[0m\n\u001B[0;32m    230\u001B[0m         \u001B[1;32melse\u001B[0m\u001B[1;33m:\u001B[0m\u001B[1;33m\u001B[0m\u001B[1;33m\u001B[0m\u001B[0m\n\u001B[0;32m    231\u001B[0m             \u001B[1;32mif\u001B[0m \u001B[0mkey\u001B[0m \u001B[1;32mnot\u001B[0m \u001B[1;32min\u001B[0m \u001B[0mself\u001B[0m\u001B[1;33m.\u001B[0m\u001B[0mobj\u001B[0m\u001B[1;33m:\u001B[0m\u001B[1;33m\u001B[0m\u001B[1;33m\u001B[0m\u001B[0m\n\u001B[1;32m--> 232\u001B[1;33m                 \u001B[1;32mraise\u001B[0m \u001B[0mKeyError\u001B[0m\u001B[1;33m(\u001B[0m\u001B[1;34mf\"Column not found: {key}\"\u001B[0m\u001B[1;33m)\u001B[0m\u001B[1;33m\u001B[0m\u001B[1;33m\u001B[0m\u001B[0m\n\u001B[0m\u001B[0;32m    233\u001B[0m             \u001B[0msubset\u001B[0m \u001B[1;33m=\u001B[0m \u001B[0mself\u001B[0m\u001B[1;33m.\u001B[0m\u001B[0mobj\u001B[0m\u001B[1;33m[\u001B[0m\u001B[0mkey\u001B[0m\u001B[1;33m]\u001B[0m\u001B[1;33m\u001B[0m\u001B[1;33m\u001B[0m\u001B[0m\n\u001B[0;32m    234\u001B[0m             \u001B[0mndim\u001B[0m \u001B[1;33m=\u001B[0m \u001B[0msubset\u001B[0m\u001B[1;33m.\u001B[0m\u001B[0mndim\u001B[0m\u001B[1;33m\u001B[0m\u001B[1;33m\u001B[0m\u001B[0m\n",
      "\u001B[1;31mKeyError\u001B[0m: 'Column not found: creat_at_ts'"
     ]
    }
   ],
   "source": [
    "#获取user_id对应的用户最后一次点击的文章的创建时间\n",
    "trn_click = trn_click.sort_values('click_timestamp')\n",
    "user_last_news_created_time = trn_click.groupby('user_id')['creat_at_ts'].apply(lambda x:x.iloc[-1]).reset_index()"
   ],
   "metadata": {
    "collapsed": false,
    "pycharm": {
     "name": "#%%\n"
    }
   }
  }
 ],
 "metadata": {
  "kernelspec": {
   "display_name": "Python 3",
   "language": "python",
   "name": "python3"
  },
  "language_info": {
   "codemirror_mode": {
    "name": "ipython",
    "version": 2
   },
   "file_extension": ".py",
   "mimetype": "text/x-python",
   "name": "python",
   "nbconvert_exporter": "python",
   "pygments_lexer": "ipython2",
   "version": "2.7.6"
  }
 },
 "nbformat": 4,
 "nbformat_minor": 0
}