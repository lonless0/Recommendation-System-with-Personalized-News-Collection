{
 "cells": [
  {
   "cell_type": "code",
   "execution_count": 2,
   "metadata": {
    "collapsed": true
   },
   "outputs": [],
   "source": [
    "import collections\n",
    "from imp import reload\n",
    "\n",
    "import pandas as pd\n",
    "import numpy as np\n",
    "\n",
    "\n"
   ]
  },
  {
   "cell_type": "code",
   "execution_count": 6,
   "outputs": [
    {
     "name": "stderr",
     "output_type": "stream",
     "text": [
      "C:\\Users\\lonless\\AppData\\Local\\Temp/ipykernel_3920/2047912565.py:16: PerformanceWarning: DataFrame is highly fragmented.  This is usually the result of calling `frame.insert` many times, which has poor performance.  Consider using pd.concat instead.  To get a de-fragmented frame, use `newframe = frame.copy()`\n",
      "  item_emb_df[emb] = np.random.randint(1,10,size=(len(item_emb_df),1))\n"
     ]
    }
   ],
   "source": [
    "from tqdm import tqdm\n",
    "\n",
    "user_id = np.random.randint(1,200,size=(2000,1))\n",
    "click_article_id = np.random.randint(1,1000,size=(2000,1))\n",
    "click_timestamp = np.random.randint(100000,999999,size=(2000,1))\n",
    "created_at_ts = click_article_id*333%100\n",
    "words_count = click_article_id*137%500\n",
    "data= np.concatenate([user_id,click_article_id,click_article_id%8,click_timestamp,created_at_ts,words_count],axis=-1)\n",
    "df_click = pd.DataFrame(data,columns=[\"user_id\",'click_article_id','category_id','click_timestamp','created_at_ts','words_count'])\n",
    "item_info_df = df_click\n",
    "item_info_df = item_info_df.drop(['user_id','click_timestamp'],axis=1).drop_duplicates(subset=['click_article_id','category_id','created_at_ts'],keep='first')\n",
    "\n",
    "\n",
    "item_emb_df = pd.DataFrame()\n",
    "item_emb_df['article_id'] = item_info_df['click_article_id']\n",
    "for i in range(0,250):\n",
    "    emb = 'emb'+(str)(i)\n",
    "    item_emb_df[emb] = np.random.randint(1,10,size=(len(item_emb_df),1))"
   ],
   "metadata": {
    "collapsed": false,
    "pycharm": {
     "name": "#%%\n"
    }
   }
  },
  {
   "cell_type": "code",
   "execution_count": 5,
   "outputs": [],
   "source": [
    "# 文章索引与文章id的字典映射\n",
    "item_idx_2_rawid_dict = dict(zip(item_emb_df.index, item_emb_df['article_id']))\n",
    "\n",
    "item_emb_cols = [x for x in item_emb_df.columns if 'emb' in x]\n",
    "item_emb_np = np.ascontiguousarray(item_emb_df[item_emb_cols].values, dtype=np.float32)\n",
    "# 向量进行单位化\n",
    "item_emb_np = item_emb_np / np.linalg.norm(item_emb_np, axis=1, keepdims=True)\n",
    "\n",
    "\n"
   ],
   "metadata": {
    "collapsed": false,
    "pycharm": {
     "name": "#%%\n"
    }
   }
  },
  {
   "cell_type": "code",
   "execution_count": 26,
   "outputs": [
    {
     "data": {
      "text/plain": "['2021.7.6 学习会.docx',\n 'Clash for Windows.lnk',\n 'Clash.for.Windows-0.15.2-win',\n 'desktop.ini',\n 'docs.txt.txt',\n 'GitHub Desktop.lnk',\n 'HEU23_Debug.txt',\n 'IMG_0732(20201222-205924).JPG',\n 'Microsoft Edge.lnk',\n '__MACOSX',\n '图片1.png',\n '新建文件夹',\n '新建文本文档.txt',\n '网安院宣传部副部梁小龙.docx']"
     },
     "execution_count": 26,
     "metadata": {},
     "output_type": "execute_result"
    }
   ],
   "source": [],
   "metadata": {
    "collapsed": false,
    "pycharm": {
     "name": "#%%\n"
    }
   }
  },
  {
   "cell_type": "code",
   "execution_count": 57,
   "outputs": [],
   "source": [
    "#!/usr/bin/python\n",
    "# -*- coding: utf-8 -*-\n",
    "import numpy\n",
    "import os\n",
    "import sys\n",
    "from sklearn import feature_extraction\n",
    "from sklearn.feature_extraction.text import TfidfTransformer\n",
    "from sklearn.feature_extraction.text import TfidfVectorizer, CountVectorizer\n",
    "\n",
    "\n",
    "\n",
    "def i2i_sim():\n",
    "\n",
    "    #sys.setdefaultencoding('utf8')了 网易 杭研 大厦\",\"小明 硕士 毕业 与 中国 科学院\",\"我 爱 北京 天安门\"]\n",
    "    trainfile = open(\"C:\\\\Users\\\\lonless\\\\Desktop\\\\docs.txt\",\"r\",encoding='utf-8') #不同的documents用换行符隔开\n",
    "    traincorpus = trainfile.readlines()\n",
    "\n",
    "\n",
    "    #corpus=[\"我 来到 北京 清华大学\",\"我 他 来到\n",
    "    trainfile.close()\n",
    "    corpus = traincorpus\n",
    "\n",
    "    vectorizer=CountVectorizer()#该类会将文本中的词语转换为词频矩阵，矩阵元素a[i][j] 表示j词在i类文本下的词频\n",
    "    tfidf_vectorizer = TfidfVectorizer(max_df=0.95, min_df=2, #max_features=n_features,\n",
    "                                       stop_words='english')\n",
    "    transformer=TfidfTransformer()#该类会统计每个词语的tf-idf权值\n",
    "    tfidf=transformer.fit_transform(tfidf_vectorizer.fit_transform(corpus))#第一个fit_transform是计算tf-idf，第二个fit_transform是将文本转为词频矩阵\n",
    "    word=tfidf_vectorizer.get_feature_names()#获取词袋模型中的所有词语\n",
    "    weight=tfidf.toarray()#将tf-idf矩阵抽取出来，元素a[i][j]表示j词在i类文本中的tf-idf权重\n",
    "\n",
    "    SimMatrix = (tfidf * tfidf.T).A\n",
    "    #print(SimMatrix[1,3]) #\"第一篇与第4篇的相似度\"\n",
    "\n",
    "    numpy.savetxt(r\"C:\\Users\\lonless\\Desktop\\SimMatrix.csv\", SimMatrix, delimiter=\",\") #保存相似度矩阵"
   ],
   "metadata": {
    "collapsed": false,
    "pycharm": {
     "name": "#%%\n"
    }
   }
  },
  {
   "cell_type": "code",
   "execution_count": 55,
   "outputs": [
    {
     "data": {
      "text/plain": "0.0"
     },
     "execution_count": 55,
     "metadata": {},
     "output_type": "execute_result"
    }
   ],
   "source": [
    "SimMatrix[10,20]"
   ],
   "metadata": {
    "collapsed": false,
    "pycharm": {
     "name": "#%%\n"
    }
   }
  },
  {
   "cell_type": "code",
   "execution_count": 52,
   "outputs": [
    {
     "ename": "AttributeError",
     "evalue": "'numpy.ndarray' object has no attribute 'search'",
     "output_type": "error",
     "traceback": [
      "\u001B[1;31m---------------------------------------------------------------------------\u001B[0m",
      "\u001B[1;31mAttributeError\u001B[0m                            Traceback (most recent call last)",
      "\u001B[1;32m~\\AppData\\Local\\Temp/ipykernel_3920/2044366926.py\u001B[0m in \u001B[0;36m<module>\u001B[1;34m\u001B[0m\n\u001B[0;32m      9\u001B[0m \u001B[1;33m\u001B[0m\u001B[0m\n\u001B[0;32m     10\u001B[0m \u001B[1;33m\u001B[0m\u001B[0m\n\u001B[1;32m---> 11\u001B[1;33m \u001B[0msim\u001B[0m\u001B[1;33m,\u001B[0m \u001B[0midx\u001B[0m \u001B[1;33m=\u001B[0m \u001B[0mSimMatrix\u001B[0m\u001B[1;33m.\u001B[0m\u001B[0msearch\u001B[0m\u001B[1;33m(\u001B[0m\u001B[0mtopk\u001B[0m\u001B[1;33m)\u001B[0m\u001B[1;33m\u001B[0m\u001B[1;33m\u001B[0m\u001B[0m\n\u001B[0m",
      "\u001B[1;31mAttributeError\u001B[0m: 'numpy.ndarray' object has no attribute 'search'"
     ]
    }
   ],
   "source": [
    "topk = 10\n",
    "item_idx_2_rawid_dict = dict(zip(item_emb_df.index, item_emb_df['article_id']))\n",
    "\n",
    "item_emb_cols = [x for x in item_emb_df.columns if 'emb' in x]\n",
    "item_emb_np = np.ascontiguousarray(item_emb_df[item_emb_cols].values, dtype=np.float32)\n",
    "# 向量进行单位化\n",
    "item_emb_np = item_emb_np / np.linalg.norm(item_emb_np, axis=1, keepdims=True)\n",
    "\n",
    "\n",
    "\n",
    "sim, idx = SimMatrix.search(topk)"
   ],
   "metadata": {
    "collapsed": false,
    "pycharm": {
     "name": "#%%\n"
    }
   }
  },
  {
   "cell_type": "code",
   "execution_count": null,
   "outputs": [],
   "source": [
    "item_sim_dict = collections.defaultdict(dict)\n",
    "    for target_idx, sim_value_list, rele_idx_list in tqdm(zip(range(len(item_emb_np)), sim, idx)):\n",
    "        target_raw_id = item_idx_2_rawid_dict[target_idx]\n",
    "        # 从1开始是为了去掉商品本身, 所以最终获得的相似商品只有topk-1\n",
    "        for rele_idx, sim_value in zip(rele_idx_list[1:], sim_value_list[1:]):\n",
    "            rele_raw_id = item_idx_2_rawid_dict[rele_idx]\n",
    "            item_sim_dict[target_raw_id][rele_raw_id] = item_sim_dict.get(target_raw_id, {}).get(rele_raw_id, 0) + sim_value\n",
    "\n",
    "    # 保存i2i相似度矩阵\n",
    "    pickle.dump(item_sim_dict, open(save_path + 'emb_i2i_sim.pkl', 'wb'))"
   ],
   "metadata": {
    "collapsed": false,
    "pycharm": {
     "name": "#%%\n"
    }
   }
  }
 ],
 "metadata": {
  "kernelspec": {
   "display_name": "Python 3",
   "language": "python",
   "name": "python3"
  },
  "language_info": {
   "codemirror_mode": {
    "name": "ipython",
    "version": 2
   },
   "file_extension": ".py",
   "mimetype": "text/x-python",
   "name": "python",
   "nbconvert_exporter": "python",
   "pygments_lexer": "ipython2",
   "version": "2.7.6"
  }
 },
 "nbformat": 4,
 "nbformat_minor": 0
}